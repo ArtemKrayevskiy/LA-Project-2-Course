{
 "cells": [
  {
   "cell_type": "code",
   "execution_count": 1,
   "metadata": {},
   "outputs": [],
   "source": [
    "import cv2 as cv\n",
    "import os\n",
    "import numpy as np\n",
    "import matplotlib.pyplot as plt\n",
    "import os\n",
    "import cv2\n",
    "\n",
    "def load_images_labels(dataset_dir):\n",
    "    images_dir = os.path.join(dataset_dir, \"images\")\n",
    "    labels_dir = os.path.join(dataset_dir, \"labels\")\n",
    "    \n",
    "    data = {}\n",
    "    image_data = {}\n",
    "    \n",
    "    for image_file in os.listdir(images_dir):\n",
    "        if image_file.endswith(\".jpg\"):\n",
    "            image_path = os.path.join(images_dir, image_file)\n",
    "            label_file = image_file[:-3] + \"txt\"\n",
    "            label_path = os.path.join(labels_dir, label_file)\n",
    "            if os.path.exists(label_path):\n",
    "                image = cv2.imread(image_path)\n",
    "                image = cv2.cvtColor(image, cv2.COLOR_BGR2RGB)\n",
    "                if image is not None:\n",
    "                    labels = []\n",
    "                    with open(label_path, 'r') as file:\n",
    "                        for line in file:\n",
    "                            yolo_coords = line.strip().split(\" \")\n",
    "                            labels.append(yolo_coords)\n",
    "                    data[image_file] = labels\n",
    "                    image_data[image_file] = image\n",
    "    return data, image_data\n",
    "\n",
    "\n",
    "\n",
    "\n",
    "\n",
    "def extract_sign(image, yolo_coords):\n",
    "    image_np = np.array(image)\n",
    "\n",
    "    image_height, image_width = image_np.shape[:2]\n",
    "\n",
    "    x_center, y_center, width, height = float(yolo_coords[1]) , float(yolo_coords[2]), float(yolo_coords[3]), float(yolo_coords[4])\n",
    "    x_center *= image_width\n",
    "    y_center *= image_height\n",
    "    width *= image_width\n",
    "    height *= image_height\n",
    "\n",
    "    x_min = int(x_center - (width / 2))\n",
    "    y_min = int(y_center - (height / 2))\n",
    "    x_max = int(x_center + (width / 2))\n",
    "    y_max = int(y_center + (height / 2))\n",
    "\n",
    "    sign_roi = image_np[y_min:y_max, x_min:x_max]\n",
    "    return sign_roi, int(yolo_coords[0])\n",
    "\n",
    "if __name__ == \"__main__\":\n",
    "    data, image_data = load_images_labels(\"archive/train\")\n",
    "\n",
    "    green_light_data = []\n",
    "    red_ligh_data = []\n",
    "    speed_limit_10 = []\n",
    "    speed_limit_100 = []\n",
    "    speed_limit_110 = []\n",
    "    speed_limit_120 = []\n",
    "    speed_limit_20 = []\n",
    "    speed_limit_30 = []\n",
    "    speed_limit_40 = []\n",
    "    speed_limit_50 = []\n",
    "    speed_limit_60 = []\n",
    "    speed_limit_70 = []\n",
    "    speed_limit_80 = []\n",
    "    speed_limit_90 = []\n",
    "    stop_sign_data = []\n",
    "\n",
    "    sign_datas = {0 : green_light_data,1 : red_ligh_data,2: speed_limit_10,3: speed_limit_100, 4 : speed_limit_110,\n",
    "                        5  : speed_limit_120,6 : speed_limit_20, 7 : speed_limit_30, 8 : speed_limit_40, 9: speed_limit_50\n",
    "                        ,10 :  speed_limit_60, 11 : speed_limit_70,12 : speed_limit_80,13 : speed_limit_90, 14 : stop_sign_data}\n",
    "\n",
    "    for i in range(len(data)):\n",
    "            key = list(data.keys())[i]\n",
    "            image = image_data[key]\n",
    "            for j in range(len(data[key])):\n",
    "                extracted_image, image_label = extract_sign(image, data[key][j])\n",
    "                extracted_image = cv.resize(extracted_image, [64,64])\n",
    "                extracted_image = cv2.cvtColor(extracted_image, cv2.COLOR_RGB2GRAY)\n",
    "                sign_datas[image_label].append(extracted_image)"
   ]
  },
  {
   "cell_type": "code",
   "execution_count": 2,
   "metadata": {},
   "outputs": [],
   "source": [
    "sign_datas_arrays = {}\n",
    "for i in range(len(sign_datas.keys())):\n",
    "    key = list(sign_datas.keys())[i]\n",
    "    images_list = sign_datas[key]\n",
    "    images_array = np.array(images_list)\n",
    "    flattened_images = images_array.reshape(len(images_list), -1)\n",
    "    sign_datas_arrays[i] = flattened_images\n"
   ]
  },
  {
   "cell_type": "code",
   "execution_count": 3,
   "metadata": {},
   "outputs": [
    {
     "data": {
      "text/plain": [
       "(4096, 4298)"
      ]
     },
     "execution_count": 3,
     "metadata": {},
     "output_type": "execute_result"
    }
   ],
   "source": [
    "data = []\n",
    "for i in range(15):\n",
    "    for j in range(len((sign_datas_arrays[i]))):\n",
    "        data.append(np.array(sign_datas_arrays[i][j]))\n",
    "data = np.array(data)\n",
    "data = data.T\n",
    "final_data = []\n",
    "for i in range(len(data)):\n",
    "    temp = []\n",
    "    for j in range(len(data[0])):\n",
    "        temp.append(data[i][j])\n",
    "    final_data.append(temp)\n",
    "final_data = np.array(final_data)\n",
    "final_data.shape"
   ]
  },
  {
   "cell_type": "code",
   "execution_count": 4,
   "metadata": {},
   "outputs": [],
   "source": [
    "U, S, V_t = np.linalg.svd(final_data.copy())"
   ]
  },
  {
   "cell_type": "code",
   "execution_count": 5,
   "metadata": {},
   "outputs": [],
   "source": [
    "for i in range(len(S)):\n",
    "    if S[i] < 2000:\n",
    "        insig_vectors = i\n",
    "        break"
   ]
  },
  {
   "cell_type": "code",
   "execution_count": 6,
   "metadata": {},
   "outputs": [],
   "source": [
    "coordinates_of_vectors = []\n",
    "inv = np.linalg.inv(U)\n",
    "for i in range(0,len(final_data[0])):\n",
    "    coordinates_of_vector = inv @ final_data[:, i:i+1]\n",
    "    coordinates_of_vectors.append(coordinates_of_vector[:insig_vectors])"
   ]
  },
  {
   "cell_type": "code",
   "execution_count": 7,
   "metadata": {},
   "outputs": [],
   "source": [
    "data_for_test, image_data = load_images_labels(\"archive/test\")\n",
    "green_light_test = []\n",
    "red_ligh_test = []\n",
    "speed_limit_10_test = []\n",
    "speed_limit_100_test = []\n",
    "speed_limit_110_test = []\n",
    "speed_limit_120_test = []\n",
    "speed_limit_20_test = []\n",
    "speed_limit_30_test = []\n",
    "speed_limit_40_test = []\n",
    "speed_limit_50_test = []\n",
    "speed_limit_60_test = []\n",
    "speed_limit_70_test = []\n",
    "speed_limit_80_test = []\n",
    "speed_limit_90_test = []\n",
    "stop_sign_data_test = []\n",
    "\n",
    "sign_datas_test = {0 : green_light_test,1 : red_ligh_test,2: speed_limit_10_test,3: speed_limit_100_test, 4 : speed_limit_110_test,\n",
    "                    5  : speed_limit_120_test,6 : speed_limit_20_test, 7 : speed_limit_30_test, 8 : speed_limit_40_test, 9: speed_limit_50_test\n",
    "                    ,10 :  speed_limit_60_test, 11 : speed_limit_70_test,12 : speed_limit_80_test,13 : speed_limit_90_test, 14 : stop_sign_data_test}\n",
    "\n",
    "for i in range(len(data_for_test)):\n",
    "        key = list(data_for_test.keys())[i]\n",
    "        image = image_data[key]\n",
    "        for j in range(len(data_for_test[key])):\n",
    "            extracted_image, image_label = extract_sign(image, data_for_test[key][j])\n",
    "            extracted_image = cv.resize(extracted_image, [64,64])\n",
    "            extracted_image = cv2.cvtColor(extracted_image, cv2.COLOR_RGB2GRAY)\n",
    "            sign_datas_test[image_label].append(extracted_image)"
   ]
  },
  {
   "cell_type": "code",
   "execution_count": 8,
   "metadata": {},
   "outputs": [],
   "source": [
    "sign_datas_arrays_test = {}    \n",
    "for i in range(len(sign_datas_test.keys())):\n",
    "    key = list(sign_datas_test.keys())[i]\n",
    "    images_list = sign_datas_test[key]\n",
    "    images_array = np.array(images_list)\n",
    "    flattened_images = images_array.reshape(len(images_list), -1)\n",
    "    sign_datas_arrays_test[i] = flattened_images\n"
   ]
  },
  {
   "cell_type": "code",
   "execution_count": 9,
   "metadata": {},
   "outputs": [
    {
     "data": {
      "text/plain": [
       "(4096, 770)"
      ]
     },
     "execution_count": 9,
     "metadata": {},
     "output_type": "execute_result"
    }
   ],
   "source": [
    "data_test = []\n",
    "for i in range(15):\n",
    "    for j in range(len((sign_datas_arrays_test[i]))):\n",
    "        data_test.append(np.array(sign_datas_arrays_test[i][j]))\n",
    "data_test = np.array(data_test)\n",
    "data_test = data_test.T\n",
    "final_data_test = []\n",
    "for i in range(len(data_test)):\n",
    "    temp = []\n",
    "    for j in range(len(data_test[0])):\n",
    "        temp.append(data_test[i][j])\n",
    "    final_data_test.append(temp)\n",
    "final_data_test = np.array(final_data_test)\n",
    "final_data_test.shape\n"
   ]
  },
  {
   "cell_type": "code",
   "execution_count": 10,
   "metadata": {},
   "outputs": [],
   "source": [
    "lst_of_labels_train = [542,585, 19, 267,101,252,285,334,235,283,301,318,323,168,285]\n",
    "labels_train = []\n",
    "for i,k in enumerate(lst_of_labels_train):\n",
    "    for j in range(k):\n",
    "        labels_train.append(i)\n",
    "labels_train[1501]\n",
    "lst_of_labels_test = [110, 94, 3, 46, 21, 44, 46, 60,53, 50, 45, 53, 61, 34, 50]\n",
    "labels_test = []\n",
    "for i,k in enumerate(lst_of_labels_test):\n",
    "    for j in range(k):\n",
    "        labels_test.append(i)\n"
   ]
  },
  {
   "cell_type": "code",
   "execution_count": 11,
   "metadata": {},
   "outputs": [],
   "source": [
    "import heapq\n",
    "true_guessed = 0\n",
    "guesses = []\n",
    "predicitons = []\n",
    "\n",
    "for i in range(len(final_data_test[0])):\n",
    "    image = final_data_test[:, i:i+1]\n",
    "    coords_of_image = inv @ image\n",
    "    lengths =  []\n",
    "    list_of_tuples = []\n",
    "    for cords in coordinates_of_vectors:\n",
    "        vector_cords = coords_of_image[:insig_vectors] - cords[:insig_vectors]\n",
    "        lengths.append(np.linalg.norm(vector_cords, ord=2))\n",
    "    for j in range(len(lengths)):\n",
    "        list_of_tuples.append(tuple([lengths[j], labels_train[j]]))\n",
    "    smallest_10_tuples = heapq.nsmallest(1, list_of_tuples, key=lambda x: x[0])\n",
    "    checker = [0] * 15\n",
    "    for j in range(1):\n",
    "        tup = smallest_10_tuples.pop()\n",
    "        checker[tup[1]] += 1\n",
    "    pred = checker.index(max(checker))\n",
    "    predicitons.append(pred)\n",
    "    if pred == labels_test[i]:\n",
    "        true_guessed += 1\n",
    "        guesses.append(tuple([pred, True, labels_test[i], image]))\n",
    "    else:\n",
    "        guesses.append(tuple([pred, False, labels_test[i], image]))\n"
   ]
  },
  {
   "cell_type": "code",
   "execution_count": 12,
   "metadata": {},
   "outputs": [
    {
     "data": {
      "text/plain": [
       "576"
      ]
     },
     "execution_count": 12,
     "metadata": {},
     "output_type": "execute_result"
    }
   ],
   "source": [
    "true_guessed"
   ]
  },
  {
   "cell_type": "code",
   "execution_count": 13,
   "metadata": {},
   "outputs": [
    {
     "name": "stdout",
     "output_type": "stream",
     "text": [
      "Accuracy = 0.7480519480519481\n"
     ]
    }
   ],
   "source": [
    "print(\"Accuracy = \" + str(true_guessed / len(final_data_test[0])))"
   ]
  }
 ],
 "metadata": {
  "kernelspec": {
   "display_name": "Python 3",
   "language": "python",
   "name": "python3"
  },
  "language_info": {
   "codemirror_mode": {
    "name": "ipython",
    "version": 3
   },
   "file_extension": ".py",
   "mimetype": "text/x-python",
   "name": "python",
   "nbconvert_exporter": "python",
   "pygments_lexer": "ipython3",
   "version": "3.10.8"
  }
 },
 "nbformat": 4,
 "nbformat_minor": 2
}
